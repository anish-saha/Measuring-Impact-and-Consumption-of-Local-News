{
 "cells": [
  {
   "cell_type": "code",
   "execution_count": 1,
   "metadata": {},
   "outputs": [],
   "source": [
    "import pandas as pd\n",
    "import numpy as np\n",
    "import sklearn.metrics as skm\n",
    "\n",
    "from sklearn.model_selection import train_test_split\n",
    "from sklearn.linear_model import LogisticRegressionCV\n",
    "from sklearn.ensemble import RandomForestClassifier\n",
    "from sklearn.metrics import classification_report\n",
    "from datetime import datetime"
   ]
  },
  {
   "cell_type": "markdown",
   "metadata": {},
   "source": [
    "### Data Processing, Test-Train Split"
   ]
  },
  {
   "cell_type": "code",
   "execution_count": 2,
   "metadata": {},
   "outputs": [
    {
     "data": {
      "text/html": [
       "<div>\n",
       "<style scoped>\n",
       "    .dataframe tbody tr th:only-of-type {\n",
       "        vertical-align: middle;\n",
       "    }\n",
       "\n",
       "    .dataframe tbody tr th {\n",
       "        vertical-align: top;\n",
       "    }\n",
       "\n",
       "    .dataframe thead th {\n",
       "        text-align: right;\n",
       "    }\n",
       "</style>\n",
       "<table border=\"1\" class=\"dataframe\">\n",
       "  <thead>\n",
       "    <tr style=\"text-align: right;\">\n",
       "      <th></th>\n",
       "      <th>datetime-publish</th>\n",
       "      <th>keywords</th>\n",
       "      <th>label</th>\n",
       "      <th>word-count</th>\n",
       "      <th>award</th>\n",
       "    </tr>\n",
       "  </thead>\n",
       "  <tbody>\n",
       "    <tr>\n",
       "      <td>1934</td>\n",
       "      <td>2013-06-11 2013-06-11</td>\n",
       "      <td>they that qaida</td>\n",
       "      <td>1</td>\n",
       "      <td>672</td>\n",
       "      <td>1</td>\n",
       "    </tr>\n",
       "    <tr>\n",
       "      <td>2974</td>\n",
       "      <td>2001-10-24</td>\n",
       "      <td>xenakis,ensemble,music</td>\n",
       "      <td>0</td>\n",
       "      <td>394</td>\n",
       "      <td>0</td>\n",
       "    </tr>\n",
       "    <tr>\n",
       "      <td>6896</td>\n",
       "      <td>2010-11-03</td>\n",
       "      <td>mitsubishi,royal,mitsubishi</td>\n",
       "      <td>0</td>\n",
       "      <td>88</td>\n",
       "      <td>0</td>\n",
       "    </tr>\n",
       "    <tr>\n",
       "      <td>11503</td>\n",
       "      <td>2014-05-29</td>\n",
       "      <td>hospitals,fires,dementia</td>\n",
       "      <td>0</td>\n",
       "      <td>479</td>\n",
       "      <td>0</td>\n",
       "    </tr>\n",
       "    <tr>\n",
       "      <td>4216</td>\n",
       "      <td>2009-09-27</td>\n",
       "      <td>venezuela,uranium,iran</td>\n",
       "      <td>0</td>\n",
       "      <td>154</td>\n",
       "      <td>0</td>\n",
       "    </tr>\n",
       "    <tr>\n",
       "      <td>...</td>\n",
       "      <td>...</td>\n",
       "      <td>...</td>\n",
       "      <td>...</td>\n",
       "      <td>...</td>\n",
       "      <td>...</td>\n",
       "    </tr>\n",
       "    <tr>\n",
       "      <td>9382</td>\n",
       "      <td>2013-03-20</td>\n",
       "      <td>fur,shopping,fashion</td>\n",
       "      <td>0</td>\n",
       "      <td>746</td>\n",
       "      <td>0</td>\n",
       "    </tr>\n",
       "    <tr>\n",
       "      <td>1125</td>\n",
       "      <td>2013-11-01</td>\n",
       "      <td>that avenue arts</td>\n",
       "      <td>1</td>\n",
       "      <td>468</td>\n",
       "      <td>1</td>\n",
       "    </tr>\n",
       "    <tr>\n",
       "      <td>1241</td>\n",
       "      <td>1993-05-30 1992-11-27 1993-08-24 1993-07-09 19...</td>\n",
       "      <td>said that with</td>\n",
       "      <td>1</td>\n",
       "      <td>19780</td>\n",
       "      <td>1</td>\n",
       "    </tr>\n",
       "    <tr>\n",
       "      <td>10034</td>\n",
       "      <td>2009-05-05</td>\n",
       "      <td>swine,epidemics,tamiflu</td>\n",
       "      <td>0</td>\n",
       "      <td>1100</td>\n",
       "      <td>0</td>\n",
       "    </tr>\n",
       "    <tr>\n",
       "      <td>2349</td>\n",
       "      <td>2001-12-13</td>\n",
       "      <td>anagnost,yankee,handel</td>\n",
       "      <td>0</td>\n",
       "      <td>423</td>\n",
       "      <td>0</td>\n",
       "    </tr>\n",
       "  </tbody>\n",
       "</table>\n",
       "<p>10000 rows × 5 columns</p>\n",
       "</div>"
      ],
      "text/plain": [
       "                                        datetime-publish  \\\n",
       "1934                               2013-06-11 2013-06-11   \n",
       "2974                                          2001-10-24   \n",
       "6896                                          2010-11-03   \n",
       "11503                                         2014-05-29   \n",
       "4216                                          2009-09-27   \n",
       "...                                                  ...   \n",
       "9382                                          2013-03-20   \n",
       "1125                                          2013-11-01   \n",
       "1241   1993-05-30 1992-11-27 1993-08-24 1993-07-09 19...   \n",
       "10034                                         2009-05-05   \n",
       "2349                                          2001-12-13   \n",
       "\n",
       "                          keywords  label  word-count  award  \n",
       "1934               they that qaida      1         672      1  \n",
       "2974        xenakis,ensemble,music      0         394      0  \n",
       "6896   mitsubishi,royal,mitsubishi      0          88      0  \n",
       "11503     hospitals,fires,dementia      0         479      0  \n",
       "4216        venezuela,uranium,iran      0         154      0  \n",
       "...                            ...    ...         ...    ...  \n",
       "9382          fur,shopping,fashion      0         746      0  \n",
       "1125              that avenue arts      1         468      1  \n",
       "1241                said that with      1       19780      1  \n",
       "10034      swine,epidemics,tamiflu      0        1100      0  \n",
       "2349        anagnost,yankee,handel      0         423      0  \n",
       "\n",
       "[10000 rows x 5 columns]"
      ]
     },
     "execution_count": 2,
     "metadata": {},
     "output_type": "execute_result"
    }
   ],
   "source": [
    "df = pd.read_csv('./data/merged.csv')\n",
    "df = df.loc[:, ~df.columns.str.contains('^Unnamed')]\n",
    "df = df.sample(n=10000, random_state=42)\n",
    "df['award'] = df['label']\n",
    "df"
   ]
  },
  {
   "cell_type": "code",
   "execution_count": 3,
   "metadata": {},
   "outputs": [
    {
     "data": {
      "text/html": [
       "<div>\n",
       "<style scoped>\n",
       "    .dataframe tbody tr th:only-of-type {\n",
       "        vertical-align: middle;\n",
       "    }\n",
       "\n",
       "    .dataframe tbody tr th {\n",
       "        vertical-align: top;\n",
       "    }\n",
       "\n",
       "    .dataframe thead th {\n",
       "        text-align: right;\n",
       "    }\n",
       "</style>\n",
       "<table border=\"1\" class=\"dataframe\">\n",
       "  <thead>\n",
       "    <tr style=\"text-align: right;\">\n",
       "      <th></th>\n",
       "      <th>datetime-publish</th>\n",
       "      <th>word-count</th>\n",
       "      <th>award</th>\n",
       "    </tr>\n",
       "  </thead>\n",
       "  <tbody>\n",
       "    <tr>\n",
       "      <td>1934</td>\n",
       "      <td>1.370934e+09</td>\n",
       "      <td>672</td>\n",
       "      <td>1</td>\n",
       "    </tr>\n",
       "    <tr>\n",
       "      <td>2974</td>\n",
       "      <td>1.003907e+09</td>\n",
       "      <td>394</td>\n",
       "      <td>0</td>\n",
       "    </tr>\n",
       "    <tr>\n",
       "      <td>6896</td>\n",
       "      <td>1.288768e+09</td>\n",
       "      <td>88</td>\n",
       "      <td>0</td>\n",
       "    </tr>\n",
       "    <tr>\n",
       "      <td>11503</td>\n",
       "      <td>1.401347e+09</td>\n",
       "      <td>479</td>\n",
       "      <td>0</td>\n",
       "    </tr>\n",
       "    <tr>\n",
       "      <td>4216</td>\n",
       "      <td>1.254035e+09</td>\n",
       "      <td>154</td>\n",
       "      <td>0</td>\n",
       "    </tr>\n",
       "    <tr>\n",
       "      <td>...</td>\n",
       "      <td>...</td>\n",
       "      <td>...</td>\n",
       "      <td>...</td>\n",
       "    </tr>\n",
       "    <tr>\n",
       "      <td>9382</td>\n",
       "      <td>1.363763e+09</td>\n",
       "      <td>746</td>\n",
       "      <td>0</td>\n",
       "    </tr>\n",
       "    <tr>\n",
       "      <td>1125</td>\n",
       "      <td>1.383289e+09</td>\n",
       "      <td>468</td>\n",
       "      <td>1</td>\n",
       "    </tr>\n",
       "    <tr>\n",
       "      <td>1241</td>\n",
       "      <td>7.118748e+08</td>\n",
       "      <td>19780</td>\n",
       "      <td>1</td>\n",
       "    </tr>\n",
       "    <tr>\n",
       "      <td>10034</td>\n",
       "      <td>1.241507e+09</td>\n",
       "      <td>1100</td>\n",
       "      <td>0</td>\n",
       "    </tr>\n",
       "    <tr>\n",
       "      <td>2349</td>\n",
       "      <td>1.008230e+09</td>\n",
       "      <td>423</td>\n",
       "      <td>0</td>\n",
       "    </tr>\n",
       "  </tbody>\n",
       "</table>\n",
       "<p>10000 rows × 3 columns</p>\n",
       "</div>"
      ],
      "text/plain": [
       "       datetime-publish  word-count  award\n",
       "1934       1.370934e+09         672      1\n",
       "2974       1.003907e+09         394      0\n",
       "6896       1.288768e+09          88      0\n",
       "11503      1.401347e+09         479      0\n",
       "4216       1.254035e+09         154      0\n",
       "...                 ...         ...    ...\n",
       "9382       1.363763e+09         746      0\n",
       "1125       1.383289e+09         468      1\n",
       "1241       7.118748e+08       19780      1\n",
       "10034      1.241507e+09        1100      0\n",
       "2349       1.008230e+09         423      0\n",
       "\n",
       "[10000 rows x 3 columns]"
      ]
     },
     "execution_count": 3,
     "metadata": {},
     "output_type": "execute_result"
    }
   ],
   "source": [
    "def process_datetime(x):\n",
    "    string_dates = x.split(\" \")\n",
    "    dates = [datetime.strptime(i,\"%Y-%m-%d\") for i in string_dates]\n",
    "    return min(dates).timestamp()\n",
    "\n",
    "df['datetime-publish'] = df['datetime-publish'].apply(process_datetime)\n",
    "df = df.drop(['keywords','label'], axis=1) # only for baseline model\n",
    "df"
   ]
  },
  {
   "cell_type": "code",
   "execution_count": 4,
   "metadata": {},
   "outputs": [],
   "source": [
    "baseline_df = df[:8000]\n",
    "validation_df = df[8000:]\n",
    "X, y = baseline_df.iloc[:,:-1], baseline_df.iloc[:,-1]\n",
    "X_final, y_final = validation_df.iloc[:,:-1], validation_df.iloc[:,-1]\n",
    "X_train, X_test, y_train, y_test = train_test_split(X, y, test_size=0.25, random_state=42)"
   ]
  },
  {
   "cell_type": "markdown",
   "metadata": {},
   "source": [
    "### Logistic Regression Classifier (Baseline)"
   ]
  },
  {
   "cell_type": "code",
   "execution_count": 5,
   "metadata": {},
   "outputs": [
    {
     "name": "stdout",
     "output_type": "stream",
     "text": [
      "              precision    recall  f1-score   support\n",
      "\n",
      "           0       0.87      1.00      0.93      1653\n",
      "           1       0.96      0.26      0.41       347\n",
      "\n",
      "    accuracy                           0.87      2000\n",
      "   macro avg       0.91      0.63      0.67      2000\n",
      "weighted avg       0.88      0.87      0.84      2000\n",
      "\n"
     ]
    }
   ],
   "source": [
    "model = LogisticRegressionCV(cv=10, random_state=42).fit(X_train, y_train)\n",
    "pred = model.predict(X_test)\n",
    "print(classification_report(y_test, pred))"
   ]
  },
  {
   "cell_type": "code",
   "execution_count": 6,
   "metadata": {},
   "outputs": [
    {
     "name": "stdout",
     "output_type": "stream",
     "text": [
      "Validation Set Accuracy: 0.87\n",
      "Validation Set F1 Score: 0.411764705882353\n",
      "Validation Set Precision: 0.9578947368421052\n",
      "Validation Set Recall: 0.2622478386167147\n",
      "Validation Set ROC-AUC: 0.6299139979532454\n"
     ]
    }
   ],
   "source": [
    "print(\"Validation Set Accuracy: \" + str(skm.accuracy_score(y_test, pred)))\n",
    "print(\"Validation Set F1 Score: \" + str(skm.f1_score(y_test, pred)))\n",
    "print(\"Validation Set Precision: \" + str(skm.precision_score(y_test, pred)))\n",
    "print(\"Validation Set Recall: \" + str(skm.recall_score(y_test, pred)))\n",
    "print(\"Validation Set ROC-AUC: \" + str(skm.roc_auc_score(y_test, pred)))"
   ]
  },
  {
   "cell_type": "code",
   "execution_count": 7,
   "metadata": {},
   "outputs": [
    {
     "name": "stdout",
     "output_type": "stream",
     "text": [
      "              precision    recall  f1-score   support\n",
      "\n",
      "           0       0.87      1.00      0.93      1648\n",
      "           1       0.97      0.33      0.49       352\n",
      "\n",
      "    accuracy                           0.88      2000\n",
      "   macro avg       0.92      0.66      0.71      2000\n",
      "weighted avg       0.89      0.88      0.85      2000\n",
      "\n"
     ]
    }
   ],
   "source": [
    "pred = model.predict(X_final)\n",
    "print(classification_report(y_final, pred))"
   ]
  },
  {
   "cell_type": "code",
   "execution_count": 8,
   "metadata": {},
   "outputs": [
    {
     "name": "stdout",
     "output_type": "stream",
     "text": [
      "Test Set Accuracy: 0.8795\n",
      "Test Set F1 Score: 0.4883227176220807\n",
      "Test Set Precision: 0.9663865546218487\n",
      "Test Set Recall: 0.32670454545454547\n",
      "Test Set ROC-AUC: 0.6621386804942629\n"
     ]
    }
   ],
   "source": [
    "print(\"Test Set Accuracy: \" + str(skm.accuracy_score(y_final, pred)))\n",
    "print(\"Test Set F1 Score: \" + str(skm.f1_score(y_final, pred)))\n",
    "print(\"Test Set Precision: \" + str(skm.precision_score(y_final, pred)))\n",
    "print(\"Test Set Recall: \" + str(skm.recall_score(y_final, pred)))\n",
    "print(\"Test Set ROC-AUC: \" + str(skm.roc_auc_score(y_final, pred)))"
   ]
  },
  {
   "cell_type": "markdown",
   "metadata": {},
   "source": [
    "### Random Forest Classifier (Baseline)"
   ]
  },
  {
   "cell_type": "code",
   "execution_count": 9,
   "metadata": {},
   "outputs": [
    {
     "name": "stdout",
     "output_type": "stream",
     "text": [
      "              precision    recall  f1-score   support\n",
      "\n",
      "           0       0.97      0.98      0.97      1653\n",
      "           1       0.91      0.84      0.87       347\n",
      "\n",
      "    accuracy                           0.96      2000\n",
      "   macro avg       0.94      0.91      0.92      2000\n",
      "weighted avg       0.96      0.96      0.96      2000\n",
      "\n"
     ]
    }
   ],
   "source": [
    "model = RandomForestClassifier(n_estimators=100, random_state=42).fit(X_train, y_train)\n",
    "pred = model.predict(X_test)\n",
    "print(classification_report(y_test, pred))"
   ]
  },
  {
   "cell_type": "code",
   "execution_count": 10,
   "metadata": {},
   "outputs": [
    {
     "name": "stdout",
     "output_type": "stream",
     "text": [
      "Validation Set Accuracy: 0.958\n",
      "Validation Set F1 Score: 0.8738738738738738\n",
      "Validation Set Precision: 0.9122257053291536\n",
      "Validation Set Recall: 0.8386167146974063\n",
      "Validation Set ROC-AUC: 0.9108389078629197\n"
     ]
    }
   ],
   "source": [
    "print(\"Validation Set Accuracy: \" + str(skm.accuracy_score(y_test, pred)))\n",
    "print(\"Validation Set F1 Score: \" + str(skm.f1_score(y_test, pred)))\n",
    "print(\"Validation Set Precision: \" + str(skm.precision_score(y_test, pred)))\n",
    "print(\"Validation Set Recall: \" + str(skm.recall_score(y_test, pred)))\n",
    "print(\"Validation Set ROC-AUC: \" + str(skm.roc_auc_score(y_test, pred)))"
   ]
  },
  {
   "cell_type": "code",
   "execution_count": 11,
   "metadata": {},
   "outputs": [
    {
     "name": "stdout",
     "output_type": "stream",
     "text": [
      "              precision    recall  f1-score   support\n",
      "\n",
      "           0       0.96      0.98      0.97      1648\n",
      "           1       0.91      0.82      0.86       352\n",
      "\n",
      "    accuracy                           0.95      2000\n",
      "   macro avg       0.93      0.90      0.92      2000\n",
      "weighted avg       0.95      0.95      0.95      2000\n",
      "\n"
     ]
    }
   ],
   "source": [
    "pred = model.predict(X_final)\n",
    "print(classification_report(y_final, pred))"
   ]
  },
  {
   "cell_type": "code",
   "execution_count": 12,
   "metadata": {},
   "outputs": [
    {
     "name": "stdout",
     "output_type": "stream",
     "text": [
      "Test Set Accuracy: 0.9535\n",
      "Test Set F1 Score: 0.8614008941877794\n",
      "Test Set Precision: 0.9059561128526645\n",
      "Test Set Recall: 0.8210227272727273\n",
      "Test Set ROC-AUC: 0.9014094218887908\n"
     ]
    }
   ],
   "source": [
    "print(\"Test Set Accuracy: \" + str(skm.accuracy_score(y_final, pred)))\n",
    "print(\"Test Set F1 Score: \" + str(skm.f1_score(y_final, pred)))\n",
    "print(\"Test Set Precision: \" + str(skm.precision_score(y_final, pred)))\n",
    "print(\"Test Set Recall: \" + str(skm.recall_score(y_final, pred)))\n",
    "print(\"Test Set ROC-AUC: \" + str(skm.roc_auc_score(y_final, pred)))"
   ]
  },
  {
   "cell_type": "code",
   "execution_count": null,
   "metadata": {},
   "outputs": [],
   "source": []
  }
 ],
 "metadata": {
  "kernelspec": {
   "display_name": "Python 3",
   "language": "python",
   "name": "python3"
  },
  "language_info": {
   "codemirror_mode": {
    "name": "ipython",
    "version": 3
   },
   "file_extension": ".py",
   "mimetype": "text/x-python",
   "name": "python",
   "nbconvert_exporter": "python",
   "pygments_lexer": "ipython3",
   "version": "3.7.4"
  }
 },
 "nbformat": 4,
 "nbformat_minor": 2
}
